{
 "cells": [
  {
   "cell_type": "code",
   "execution_count": 22,
   "metadata": {},
   "outputs": [],
   "source": [
    "import os\n",
    "os.environ['TF_ENABLE_ONEDNN_OPTS'] = '0'\n",
    "\n",
    "import tensorflow as tf"
   ]
  },
  {
   "cell_type": "code",
   "execution_count": 23,
   "metadata": {},
   "outputs": [],
   "source": [
    "from pathlib import Path\n",
    "path = Path(\"analyze.ipynb\")\n",
    "project_path = str(path.parent.absolute().parent)"
   ]
  },
  {
   "cell_type": "code",
   "execution_count": 24,
   "metadata": {},
   "outputs": [
    {
     "data": {
      "text/plain": [
       "<_LoadDataset element_spec=(TensorSpec(shape=(64, 64, 3), dtype=tf.uint8, name=None), TensorSpec(shape=(), dtype=tf.int32, name=None))>"
      ]
     },
     "execution_count": 24,
     "metadata": {},
     "output_type": "execute_result"
    }
   ],
   "source": [
    "import os\n",
    "dataset = tf.data.Dataset.load(os.path.join(project_path, 'data/processed/dataset'))\n",
    "dataset"
   ]
  },
  {
   "cell_type": "code",
   "execution_count": 25,
   "metadata": {},
   "outputs": [
    {
     "name": "stderr",
     "output_type": "stream",
     "text": [
      "2024-07-10 18:24:10.184971: W tensorflow/core/framework/local_rendezvous.cc:404] Local rendezvous is aborting with status: OUT_OF_RANGE: End of sequence\n"
     ]
    },
    {
     "data": {
      "text/plain": [
       "10000"
      ]
     },
     "execution_count": 25,
     "metadata": {},
     "output_type": "execute_result"
    }
   ],
   "source": [
    "len(list(dataset))"
   ]
  },
  {
   "cell_type": "code",
   "execution_count": 26,
   "metadata": {},
   "outputs": [
    {
     "name": "stderr",
     "output_type": "stream",
     "text": [
      "2024-07-10 18:24:14.411808: W tensorflow/core/framework/local_rendezvous.cc:404] Local rendezvous is aborting with status: OUT_OF_RANGE: End of sequence\n"
     ]
    },
    {
     "data": {
      "text/plain": [
       "0.5"
      ]
     },
     "execution_count": 26,
     "metadata": {},
     "output_type": "execute_result"
    }
   ],
   "source": [
    "import numpy\n",
    "\n",
    "count = 0\n",
    "for item in dataset:\n",
    "    if int(item[1]) == 1:\n",
    "        count += 1\n",
    "count / 10000"
   ]
  },
  {
   "cell_type": "code",
   "execution_count": 27,
   "metadata": {},
   "outputs": [
    {
     "data": {
      "text/plain": [
       "(<tf.Tensor: shape=(64, 64, 3), dtype=uint8, numpy=\n",
       " array([[[175, 129, 105],\n",
       "         [189, 143, 119],\n",
       "         [191, 147, 122],\n",
       "         ...,\n",
       "         [181, 138, 103],\n",
       "         [185, 140, 105],\n",
       "         [196, 148, 115]],\n",
       " \n",
       "        [[185, 139, 115],\n",
       "         [177, 131, 107],\n",
       "         [184, 140, 115],\n",
       "         ...,\n",
       "         [201, 158, 123],\n",
       "         [196, 151, 116],\n",
       "         [208, 160, 127]],\n",
       " \n",
       "        [[187, 141, 116],\n",
       "         [193, 147, 121],\n",
       "         [188, 142, 118],\n",
       "         ...,\n",
       "         [211, 167, 132],\n",
       "         [196, 151, 117],\n",
       "         [203, 156, 122]],\n",
       " \n",
       "        ...,\n",
       " \n",
       "        [[161, 132, 102],\n",
       "         [174, 143, 114],\n",
       "         [191, 157, 129],\n",
       "         ...,\n",
       "         [185, 143, 107],\n",
       "         [172, 131,  96],\n",
       "         [156, 115,  82]],\n",
       " \n",
       "        [[191, 158, 130],\n",
       "         [188, 156, 127],\n",
       "         [190, 155, 127],\n",
       "         ...,\n",
       "         [183, 143, 106],\n",
       "         [187, 148, 114],\n",
       "         [164, 125,  95]],\n",
       " \n",
       "        [[191, 156, 128],\n",
       "         [194, 159, 131],\n",
       "         [191, 155, 127],\n",
       "         ...,\n",
       "         [195, 156, 118],\n",
       "         [188, 150, 116],\n",
       "         [186, 148, 120]]], dtype=uint8)>,\n",
       " <tf.Tensor: shape=(), dtype=int32, numpy=1>)"
      ]
     },
     "execution_count": 27,
     "metadata": {},
     "output_type": "execute_result"
    }
   ],
   "source": [
    "next(iter(dataset))"
   ]
  },
  {
   "cell_type": "code",
   "execution_count": 4,
   "metadata": {},
   "outputs": [
    {
     "data": {
      "text/html": [
       "<div>\n",
       "<style scoped>\n",
       "    .dataframe tbody tr th:only-of-type {\n",
       "        vertical-align: middle;\n",
       "    }\n",
       "\n",
       "    .dataframe tbody tr th {\n",
       "        vertical-align: top;\n",
       "    }\n",
       "\n",
       "    .dataframe thead th {\n",
       "        text-align: right;\n",
       "    }\n",
       "</style>\n",
       "<table border=\"1\" class=\"dataframe\">\n",
       "  <thead>\n",
       "    <tr style=\"text-align: right;\">\n",
       "      <th></th>\n",
       "      <th>a</th>\n",
       "    </tr>\n",
       "  </thead>\n",
       "  <tbody>\n",
       "    <tr>\n",
       "      <th>0</th>\n",
       "      <td>0</td>\n",
       "    </tr>\n",
       "    <tr>\n",
       "      <th>1</th>\n",
       "      <td>1</td>\n",
       "    </tr>\n",
       "  </tbody>\n",
       "</table>\n",
       "</div>"
      ],
      "text/plain": [
       "   a\n",
       "0  0\n",
       "1  1"
      ]
     },
     "execution_count": 4,
     "metadata": {},
     "output_type": "execute_result"
    }
   ],
   "source": [
    "import pandas as pd\n",
    "\n",
    "\n",
    "di = {\n",
    "    'a' : range(12)\n",
    "}\n",
    "\n",
    "pd.DataFrame(di).iloc[:2]"
   ]
  },
  {
   "cell_type": "code",
   "execution_count": null,
   "metadata": {},
   "outputs": [],
   "source": []
  }
 ],
 "metadata": {
  "kernelspec": {
   "display_name": "isic",
   "language": "python",
   "name": "python3"
  },
  "language_info": {
   "codemirror_mode": {
    "name": "ipython",
    "version": 3
   },
   "file_extension": ".py",
   "mimetype": "text/x-python",
   "name": "python",
   "nbconvert_exporter": "python",
   "pygments_lexer": "ipython3",
   "version": "3.10.14"
  }
 },
 "nbformat": 4,
 "nbformat_minor": 2
}
